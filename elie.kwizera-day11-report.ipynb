{
 "cells": [
  {
   "cell_type": "markdown",
   "id": "946dcae8",
   "metadata": {},
   "source": [
    "# Practical_6: Numpy"
   ]
  },
  {
   "cell_type": "markdown",
   "id": "3c13f5b2-297e-4f72-8d99-23a7c7d77efd",
   "metadata": {},
   "source": [
    "---\n",
    "\n",
    "### Exercise 1:\n",
    "Create a NumPy array of integers from 1 to 10.\n",
    "\n",
    "```python\n",
    "# Exercise 1\n",
    "```\n",
    "\n",
    "---"
   ]
  },
  {
   "cell_type": "code",
   "execution_count": 3,
   "id": "976d4bf5-d3c8-4355-93dc-3634444d86ea",
   "metadata": {},
   "outputs": [
    {
     "name": "stdout",
     "output_type": "stream",
     "text": [
      "[ 1  2  3  4  5  6  7  8  9 10]\n"
     ]
    }
   ],
   "source": [
    "import numpy as np\n",
    "num = np.arange(1,10+1)\n",
    "print(num)"
   ]
  },
  {
   "cell_type": "markdown",
   "id": "a0c1aad0-68ea-48cf-9fc1-23ba71598ef5",
   "metadata": {},
   "source": [
    "### Exercise 2:\n",
    "Create a 3x3 NumPy array filled with zeros.\n",
    "\n",
    "```python\n",
    "# Exercise 2\n",
    "```\n",
    "\n",
    "---"
   ]
  },
  {
   "cell_type": "code",
   "execution_count": 23,
   "id": "12af6bda-265e-456a-afaa-4f34e6def2af",
   "metadata": {},
   "outputs": [
    {
     "name": "stdout",
     "output_type": "stream",
     "text": [
      "[[0. 0. 0.]\n",
      " [0. 0. 0.]\n",
      " [0. 0. 0.]]\n"
     ]
    }
   ],
   "source": [
    "arr = np.zeros((3,3))\n",
    "print(arr)"
   ]
  },
  {
   "cell_type": "markdown",
   "id": "5e336ae9-388b-46fa-88c5-fce229e29371",
   "metadata": {},
   "source": [
    "### Exercise 3:\n",
    "Create a NumPy array of 10 evenly spaced numbers between 0 and 5.\n",
    "\n",
    "```python\n",
    "# Exercise 3\n",
    "```\n",
    "\n",
    "---"
   ]
  },
  {
   "cell_type": "code",
   "execution_count": 57,
   "id": "12e1daf8-ad13-4ac6-a696-60fb6ae4675c",
   "metadata": {},
   "outputs": [
    {
     "name": "stdout",
     "output_type": "stream",
     "text": [
      "[0.         0.55555556 1.11111111 1.66666667 2.22222222 2.77777778\n",
      " 3.33333333 3.88888889 4.44444444 5.        ]\n"
     ]
    }
   ],
   "source": [
    "evennum = np.linspace(0,5,10)\n",
    "print(evennum)"
   ]
  },
  {
   "cell_type": "markdown",
   "id": "4213242e-a559-4ee4-b543-54b977107151",
   "metadata": {},
   "source": [
    "### Exercise 4:\n",
    "Create a 5x5 identity matrix using NumPy.\n",
    "\n",
    "```python\n",
    "# Exercise 4\n",
    "```\n",
    "\n",
    "---"
   ]
  },
  {
   "cell_type": "code",
   "execution_count": 73,
   "id": "272e9060-79fe-407d-b3e2-0eca4cd27272",
   "metadata": {},
   "outputs": [
    {
     "name": "stdout",
     "output_type": "stream",
     "text": [
      "[[1. 0. 0. 0. 0.]\n",
      " [0. 1. 0. 0. 0.]\n",
      " [0. 0. 1. 0. 0.]\n",
      " [0. 0. 0. 1. 0.]\n",
      " [0. 0. 0. 0. 1.]]\n"
     ]
    }
   ],
   "source": [
    "identity = np.eye(5,5)\n",
    "print(identity)"
   ]
  },
  {
   "cell_type": "markdown",
   "id": "cb394315-89ed-4c5a-977d-5a8daf53c1b7",
   "metadata": {},
   "source": [
    "### Exercise 5:\n",
    "Create a 4x4 matrix with random values between 0 and 1.\n",
    "\n",
    "```python\n",
    "# Exercise 5\n",
    "```\n",
    "\n",
    "---"
   ]
  },
  {
   "cell_type": "code",
   "execution_count": 211,
   "id": "907754e0-5aa9-4b91-9436-b0ed0419cd6e",
   "metadata": {},
   "outputs": [
    {
     "data": {
      "text/plain": [
       "array([[0.76684861, 0.14063166, 0.43092892, 0.76208787],\n",
       "       [0.9159852 , 0.16878286, 0.02195326, 0.54788234],\n",
       "       [0.78265939, 0.07138067, 0.15128588, 0.66768276],\n",
       "       [0.57509578, 0.88536152, 0.479963  , 0.76400065]])"
      ]
     },
     "execution_count": 211,
     "metadata": {},
     "output_type": "execute_result"
    }
   ],
   "source": [
    "np.random.rand(4,4)"
   ]
  },
  {
   "cell_type": "markdown",
   "id": "591b995c-1d18-483e-87a0-931d78711ce0",
   "metadata": {},
   "source": [
    "### Exercise 6:\n",
    "Find the shape of a NumPy array.\n",
    "\n",
    "```python\n",
    "# Exercise 6\n",
    "```\n",
    "\n",
    "---"
   ]
  },
  {
   "cell_type": "code",
   "execution_count": 213,
   "id": "b989a604-7957-4d36-80a9-cbbbac095932",
   "metadata": {},
   "outputs": [
    {
     "data": {
      "text/plain": [
       "(4, 4)"
      ]
     },
     "execution_count": 213,
     "metadata": {},
     "output_type": "execute_result"
    }
   ],
   "source": [
    "random.shape"
   ]
  },
  {
   "cell_type": "markdown",
   "id": "ed492a9c-3530-4764-b208-66ebf5fe9fe6",
   "metadata": {},
   "source": [
    "### Exercise 7:\n",
    "Reshape a 1D NumPy array of 16 elements into a 4x4 matrix.\n",
    "\n",
    "```python\n",
    "# Exercise 7\n",
    "```\n",
    "\n",
    "---"
   ]
  },
  {
   "cell_type": "code",
   "execution_count": 225,
   "id": "d382fbce-3bf5-4ba7-80a3-0112bb74162e",
   "metadata": {},
   "outputs": [
    {
     "name": "stdout",
     "output_type": "stream",
     "text": [
      "[[3 3 3 4]\n",
      " [2 2 2 1]\n",
      " [1 4 4 4]\n",
      " [1 4 1 2]]\n"
     ]
    }
   ],
   "source": [
    "rando = np.random.randint(1,5,16)\n",
    "print(rando.reshape(4,4))"
   ]
  },
  {
   "cell_type": "markdown",
   "id": "533d4160-d26e-4019-9e7e-65dbca88d6f4",
   "metadata": {},
   "source": [
    "### Exercise 8:\n",
    "Find the data type of the elements in a NumPy array.\n",
    "\n",
    "```python\n",
    "# Exercise 8\n",
    "```\n",
    "\n",
    "---"
   ]
  },
  {
   "cell_type": "code",
   "execution_count": 229,
   "id": "e409deba-ff09-40b2-a029-422a6b5ea9e0",
   "metadata": {},
   "outputs": [
    {
     "data": {
      "text/plain": [
       "dtype('float64')"
      ]
     },
     "execution_count": 229,
     "metadata": {},
     "output_type": "execute_result"
    }
   ],
   "source": [
    "rando.dtype\n",
    "random.dtype"
   ]
  },
  {
   "cell_type": "markdown",
   "id": "321fda35-7962-45d0-85a7-fcde76bc6529",
   "metadata": {},
   "source": [
    "### Exercise 9:\n",
    "Create a NumPy array of integers from 1 to 100 and find all even numbers in the array.\n",
    "\n",
    "```python\n",
    "# Exercise 9\n",
    "```\n",
    "\n",
    "---"
   ]
  },
  {
   "cell_type": "code",
   "execution_count": 279,
   "id": "1ad92cd0-c438-47ca-b683-a28865670fc2",
   "metadata": {},
   "outputs": [
    {
     "name": "stdout",
     "output_type": "stream",
     "text": [
      "2\n",
      "4\n",
      "6\n",
      "8\n",
      "10\n",
      "12\n",
      "14\n",
      "16\n",
      "18\n",
      "20\n",
      "22\n",
      "24\n",
      "26\n",
      "28\n",
      "30\n",
      "32\n",
      "34\n",
      "36\n",
      "38\n",
      "40\n",
      "42\n",
      "44\n",
      "46\n",
      "48\n",
      "50\n",
      "52\n",
      "54\n",
      "56\n",
      "58\n",
      "60\n",
      "62\n",
      "64\n",
      "66\n",
      "68\n",
      "70\n",
      "72\n",
      "74\n",
      "76\n",
      "78\n",
      "80\n",
      "82\n",
      "84\n",
      "86\n",
      "88\n",
      "90\n",
      "92\n",
      "94\n",
      "96\n",
      "98\n",
      "100\n"
     ]
    }
   ],
   "source": [
    "int = np.arange(1,100+1)\n",
    "for i in int:\n",
    "    if i%2==0:\n",
    "        print(i)"
   ]
  },
  {
   "cell_type": "markdown",
   "id": "8028fa54-fc46-42c5-b276-12655c631ad3",
   "metadata": {},
   "source": [
    "### Exercise 10:\n",
    "Generate a 6x6 matrix of random integers between 10 and 50.\n",
    "\n",
    "```python\n",
    "# Exercise 10\n",
    "```\n",
    "\n",
    "---"
   ]
  },
  {
   "cell_type": "code",
   "execution_count": 325,
   "id": "a9060e2e-89b3-4681-a7c3-bc6533ad1788",
   "metadata": {},
   "outputs": [
    {
     "name": "stdout",
     "output_type": "stream",
     "text": [
      "[[29 32 44 43 49 17]\n",
      " [32 35 26 25 19 11]\n",
      " [15 48 26 40 49 25]\n",
      " [10 13 47 24 46 34]\n",
      " [49 35 39 30 33 24]\n",
      " [37 23 13 22 10 11]]\n"
     ]
    }
   ],
   "source": [
    "randmatrix = np.random.randint(10,50, size=(6,6))\n",
    "print(randmatrix)"
   ]
  },
  {
   "cell_type": "code",
   "execution_count": 373,
   "id": "4858e866-48ea-459a-a18f-63d28470fc9e",
   "metadata": {},
   "outputs": [
    {
     "name": "stdout",
     "output_type": "stream",
     "text": [
      "10\n",
      "49\n",
      "[10 13 13 22 10 11]\n",
      "[17 11 15 10 24 10]\n"
     ]
    }
   ],
   "source": [
    "a = np.min(randmatrix)\n",
    "b = np.max(randmatrix)\n",
    "c = np.min(randmatrix, axis = 0)\n",
    "d = np.min(randmatrix, axis = 1)\n",
    "print(a)\n",
    "print(b)\n",
    "print(c)\n",
    "print(d)"
   ]
  },
  {
   "cell_type": "markdown",
   "id": "1d800ef7-d627-4ebd-aee9-8e47cf6ee073",
   "metadata": {},
   "source": [
    "### Exercise 11:\n",
    "Slice a 2D NumPy array to extract a submatrix.\n",
    "\n",
    "```python\n",
    "# Exercise 11\n",
    "```\n",
    "\n",
    "---"
   ]
  },
  {
   "cell_type": "code",
   "execution_count": 401,
   "id": "a8bf7c2e-2552-43a5-ba5c-0cdedce16c77",
   "metadata": {},
   "outputs": [
    {
     "data": {
      "text/plain": [
       "array([[6, 8, 8, 0, 0, 5, 5, 7, 9],\n",
       "       [6, 2, 9, 7, 4, 0, 4, 2, 8]])"
      ]
     },
     "execution_count": 401,
     "metadata": {},
     "output_type": "execute_result"
    }
   ],
   "source": [
    "slic = np.random.randint(0,10, size = (2,9))\n",
    "slic"
   ]
  },
  {
   "cell_type": "code",
   "execution_count": 403,
   "id": "e60a9d55-cc13-4eb4-ac5b-bcbfb20e3fd6",
   "metadata": {},
   "outputs": [
    {
     "data": {
      "text/plain": [
       "array([[6, 8, 8, 0, 0, 5],\n",
       "       [5, 7, 9, 6, 2, 9],\n",
       "       [7, 4, 0, 4, 2, 8]])"
      ]
     },
     "execution_count": 403,
     "metadata": {},
     "output_type": "execute_result"
    }
   ],
   "source": [
    "sli = slic.reshape(3,6)\n",
    "sli"
   ]
  },
  {
   "cell_type": "markdown",
   "id": "d94118cd-ff1c-46f8-b7e7-9901030a9970",
   "metadata": {},
   "source": [
    "### Exercise 12:\n",
    "Calculate the sum of all elements in a NumPy array.\n",
    "\n",
    "```python\n",
    "# Exercise 12\n",
    "```\n",
    "\n",
    "---"
   ]
  },
  {
   "cell_type": "code",
   "execution_count": 413,
   "id": "0e472f6a-b3c6-44f4-a104-ad5181daef03",
   "metadata": {},
   "outputs": [
    {
     "name": "stdout",
     "output_type": "stream",
     "text": [
      "[[12 13 32 33 16]\n",
      " [57 46 64 47 71]\n",
      " [26 36 92 96 84]\n",
      " [69 90 36 84 10]\n",
      " [95 54 85 17 26]] and the sum of all element is: 1291\n"
     ]
    }
   ],
   "source": [
    "ar = np.random.randint(0,100, size = (5,5))\n",
    "sum = np.sum(ar)\n",
    "print(ar, \"and the sum of all element is:\",sum)"
   ]
  },
  {
   "cell_type": "markdown",
   "id": "d90a50c1-dcc6-46ab-8f29-11250dc620b7",
   "metadata": {},
   "source": [
    "### Exercise 13:\n",
    "Calculate the mean, median, and standard deviation of a NumPy array.\n",
    "\n",
    "```python\n",
    "# Exercise 13\n",
    "```\n",
    "\n",
    "---"
   ]
  },
  {
   "cell_type": "code",
   "execution_count": 427,
   "id": "7218fcac-e532-4f26-b2d4-2744aba8cebf",
   "metadata": {},
   "outputs": [
    {
     "name": "stdout",
     "output_type": "stream",
     "text": [
      "The Mean of the array is: 51.64\n",
      "The Mediam of the array is: 47.0\n",
      "The standard deviation of the array is: 28.898276765232904\n"
     ]
    }
   ],
   "source": [
    "print(\"The Mean of the array is:\",np.mean(ar))\n",
    "print(\"The Mediam of the array is:\", np.median(ar))\n",
    "print(\"The standard deviation of the array is:\", np.std(ar))"
   ]
  },
  {
   "cell_type": "markdown",
   "id": "c901315f-0e15-470e-9f5f-aeb5b216b1ef",
   "metadata": {},
   "source": [
    "### Exercise 14:\n",
    "Find the maximum and minimum values in a NumPy array.\n",
    "\n",
    "```python\n",
    "# Exercise 14\n",
    "```\n",
    "\n",
    "---"
   ]
  },
  {
   "cell_type": "code",
   "execution_count": 429,
   "id": "c098b9b5-7620-4980-9ca4-0b3fff947764",
   "metadata": {},
   "outputs": [
    {
     "name": "stdout",
     "output_type": "stream",
     "text": [
      "The maximum value of the array is: 96\n",
      "The maximum value of the array is: 10\n"
     ]
    }
   ],
   "source": [
    "print(\"The maximum value of the array is:\",np.max(ar))\n",
    "print(\"The maximum value of the array is:\",np.min(ar))"
   ]
  },
  {
   "cell_type": "markdown",
   "id": "f0c3d175-6cdd-43c9-8852-743608d5a36a",
   "metadata": {},
   "source": [
    "### Exercise 15:\n",
    "Create a NumPy array of 20 random integers and find the index of the maximum value.\n",
    "\n",
    "```python\n",
    "# Exercise 15\n",
    "```\n",
    "\n",
    "---"
   ]
  },
  {
   "cell_type": "code",
   "execution_count": 519,
   "id": "4f6aa4e9-1491-47b4-a2ec-668e08f37843",
   "metadata": {},
   "outputs": [
    {
     "name": "stdout",
     "output_type": "stream",
     "text": [
      "[200 490 388 370 341 226 231 363 283 222 258 470 230 405 435 233 326 381\n",
      " 238 214] And the maximum is: 1\n"
     ]
    }
   ],
   "source": [
    "rnd = np.random.randint(200,500, 20)\n",
    "print(rnd, \"And the maximum is:\",np.argmax(rnd))"
   ]
  },
  {
   "cell_type": "markdown",
   "id": "f9d92d90-41bc-410e-8ada-bb7e15c3a4b7",
   "metadata": {},
   "source": [
    "### Exercise 16:\n",
    "Create a NumPy array and reverse its elements.\n",
    "\n",
    "```python\n",
    "# Exercise 16\n",
    "```\n",
    "\n",
    "---"
   ]
  },
  {
   "cell_type": "code",
   "execution_count": 553,
   "id": "80239740-8824-4bd3-8722-78973a0b86b1",
   "metadata": {},
   "outputs": [
    {
     "name": "stdout",
     "output_type": "stream",
     "text": [
      "[9 0 5 6 5 6 3 3 4 4 3 0 0 4 5 0 1 6 8 8] and their reserve is: [8 8 6 1 0 5 4 0 0 3 4 4 3 3 6 5 6 5 0 9]\n"
     ]
    }
   ],
   "source": [
    "element = np.random.randint(0,10,20)\n",
    "reverse = np.flip(element)\n",
    "print(element, \"and their reserve is:\",reverse)"
   ]
  },
  {
   "cell_type": "markdown",
   "id": "e9a883a2-73a6-47fb-9d50-e663fc753a54",
   "metadata": {},
   "source": [
    "### Exercise 17:\n",
    "Create a 3x3 matrix and multiply it element-wise by another 3x3 matrix.\n",
    "\n",
    "```python\n",
    "# Exercise 17\n",
    "```\n",
    "\n",
    "---"
   ]
  },
  {
   "cell_type": "code",
   "execution_count": 579,
   "id": "f76adada-70a5-45b4-b441-ae0bd40f2108",
   "metadata": {},
   "outputs": [
    {
     "name": "stdout",
     "output_type": "stream",
     "text": [
      "[[2 0 5]\n",
      " [8 0 4]\n",
      " [0 1 5]]\n",
      "\n",
      "\n",
      "[[1 2 2]\n",
      " [1 3 3]\n",
      " [4 5 2]]\n",
      "\n",
      "\n",
      "The multiplication of the two matrices are:\n",
      " [[ 2  0 10]\n",
      " [ 8  0 12]\n",
      " [ 0  5 10]]\n"
     ]
    }
   ],
   "source": [
    "A = np.random.randint(0,9, size = (3,3))\n",
    "B = np.random.randint(1,6, size = (3,3))\n",
    "multiplymatrix = A * B\n",
    "print(A)\n",
    "print(\"\\n\")\n",
    "print(B)\n",
    "print(\"\\n\")\n",
    "print(\"The multiplication of the two matrices are:\" \"\\n\", multiplymatrix)"
   ]
  },
  {
   "cell_type": "markdown",
   "id": "1e04c73f-c9fb-4269-874a-1e9327295020",
   "metadata": {},
   "source": [
    "### Exercise 18:\n",
    "Create a diagonal matrix from a given 1D array.\n",
    "\n",
    "```python\n",
    "# Exercise 18\n",
    "```\n",
    "\n",
    "---"
   ]
  },
  {
   "cell_type": "code",
   "execution_count": 67,
   "id": "9fb38e5b-04f8-456b-a4ad-57f6267e21a3",
   "metadata": {},
   "outputs": [
    {
     "name": "stdout",
     "output_type": "stream",
     "text": [
      "The diagonal element are:\n",
      " [[ 3  0  0  0]\n",
      " [ 0  4  0  0]\n",
      " [ 0  0  5  0]\n",
      " [ 0  0  0 15]]\n"
     ]
    },
    {
     "data": {
      "text/plain": [
       "array([ 3,  4,  5, 15])"
      ]
     },
     "execution_count": 67,
     "metadata": {},
     "output_type": "execute_result"
    }
   ],
   "source": [
    "import numpy as np\n",
    "dia = np.array([3,4,5,15])\n",
    "print(\"The diagonal element are:\" \"\\n\", np.diag(dia))\n",
    "arr=np.diag(dia)\n",
    "arr1=np.diag(arr)\n",
    "arr1"
   ]
  },
  {
   "cell_type": "markdown",
   "id": "fd4f47a0-74e6-4ce8-9602-f25fc8611b3a",
   "metadata": {},
   "source": [
    "### Exercise 19:\n",
    "Perform matrix multiplication on two 2D NumPy arrays.\n",
    "\n",
    "```python\n",
    "# Exercise 19\n",
    "```\n",
    "\n",
    "---"
   ]
  },
  {
   "cell_type": "code",
   "execution_count": 95,
   "id": "3c6955d1-449b-4ff0-9583-cf162dac1492",
   "metadata": {},
   "outputs": [
    {
     "name": "stdout",
     "output_type": "stream",
     "text": [
      "[[4 1]\n",
      " [4 2]]\n",
      "\n",
      "\n",
      "[[3 3]\n",
      " [4 3]]\n",
      "\n",
      "\n",
      "[[16 15]\n",
      " [20 18]]\n"
     ]
    }
   ],
   "source": [
    "AB = np.random.randint(1,5, size = (2,2))\n",
    "CD = np.random.randint(3,5, size = (2,2))\n",
    "print(AB)\n",
    "print(\"\\n\")\n",
    "print(CD)\n",
    "print(\"\\n\")\n",
    "result = np.dot (AB, CD)\n",
    "print(result)"
   ]
  },
  {
   "cell_type": "markdown",
   "id": "1aef6965-9514-462f-867b-d0b405ce5812",
   "metadata": {},
   "source": [
    "### Exercise 20:\n",
    "Flatten a 2D NumPy array into a 1D array.\n",
    "\n",
    "```python\n",
    "# Exercise 20\n",
    "```\n",
    "\n",
    "---"
   ]
  },
  {
   "cell_type": "code",
   "execution_count": 99,
   "id": "76ddd85b-83e2-4ddf-97c2-38a32dfaca05",
   "metadata": {},
   "outputs": [
    {
     "data": {
      "text/plain": [
       "array([4, 1, 4, 2])"
      ]
     },
     "execution_count": 99,
     "metadata": {},
     "output_type": "execute_result"
    }
   ],
   "source": [
    "AB.flatten()"
   ]
  },
  {
   "cell_type": "markdown",
   "id": "2a161366-f1e8-4527-b6ed-1c367bb094d5",
   "metadata": {},
   "source": [
    "### Exercise 21:\n",
    "Stack two NumPy arrays vertically.\n",
    "\n",
    "```python\n",
    "# Exercise 21\n",
    "```\n",
    "\n",
    "---"
   ]
  },
  {
   "cell_type": "code",
   "execution_count": 103,
   "id": "64991d10-6e71-4682-8d0c-1f8b53ed3d35",
   "metadata": {},
   "outputs": [
    {
     "data": {
      "text/plain": [
       "array([[4, 1],\n",
       "       [4, 2],\n",
       "       [3, 3],\n",
       "       [4, 3]])"
      ]
     },
     "execution_count": 103,
     "metadata": {},
     "output_type": "execute_result"
    }
   ],
   "source": [
    "np.vstack((AB,CD))"
   ]
  },
  {
   "cell_type": "markdown",
   "id": "a19aa8f8-15fa-4148-85c7-ff91e87f1060",
   "metadata": {},
   "source": [
    "### Exercise 22:\n",
    "Stack two NumPy arrays horizontally.\n",
    "\n",
    "```python\n",
    "# Exercise 22\n",
    "```\n",
    "\n",
    "---"
   ]
  },
  {
   "cell_type": "code",
   "execution_count": 105,
   "id": "771f9289-f3ca-4e64-b160-2ba6d7a74c1f",
   "metadata": {},
   "outputs": [
    {
     "data": {
      "text/plain": [
       "array([[4, 1, 3, 3],\n",
       "       [4, 2, 4, 3]])"
      ]
     },
     "execution_count": 105,
     "metadata": {},
     "output_type": "execute_result"
    }
   ],
   "source": [
    "np.hstack((AB,CD))"
   ]
  },
  {
   "cell_type": "markdown",
   "id": "c35ec1ee-d150-4f16-84dd-a2c76dc5850e",
   "metadata": {},
   "source": [
    "### Exercise 23:\n",
    "Split a NumPy array into multiple sub-arrays.\n",
    "\n",
    "```python\n",
    "# Exercise 23\n",
    "```\n",
    "\n",
    "---"
   ]
  },
  {
   "cell_type": "code",
   "execution_count": 117,
   "id": "62eb5a6a-0074-493f-b1f0-19ca3f60d43f",
   "metadata": {},
   "outputs": [
    {
     "data": {
      "text/plain": [
       "[array([1, 3, 3]), array([0, 1, 0]), array([0, 1, 4])]"
      ]
     },
     "execution_count": 117,
     "metadata": {},
     "output_type": "execute_result"
    }
   ],
   "source": [
    "spli = np.random.randint(0,5,9)\n",
    "np.split(spli, 3)"
   ]
  },
  {
   "cell_type": "markdown",
   "id": "70a66d71-0d0e-4d5c-810b-f5cd6591c23d",
   "metadata": {},
   "source": [
    "### Exercise 24:\n",
    "Generate a random NumPy array and round each element to two decimal places.\n",
    "\n",
    "```python\n",
    "# Exercise 24\n",
    "```\n",
    "\n",
    "---"
   ]
  },
  {
   "cell_type": "code",
   "execution_count": 127,
   "id": "995ea6f3-4381-4b8d-aa96-3f23f9e68e4f",
   "metadata": {},
   "outputs": [
    {
     "name": "stdout",
     "output_type": "stream",
     "text": [
      "[[0.38 0.85 0.77 0.82]\n",
      " [0.97 0.79 0.66 0.71]\n",
      " [0.4  0.21 0.95 0.48]\n",
      " [0.66 0.18 0.8  0.22]]\n"
     ]
    }
   ],
   "source": [
    "rou1 = np.random.rand(4,4)\n",
    "rou2= np.round(rou1,2)\n",
    "print(rou2)"
   ]
  },
  {
   "cell_type": "markdown",
   "id": "d1b2133b-a13c-453a-89d3-4e7c1dbe4a52",
   "metadata": {},
   "source": [
    "### Exercise 25:\n",
    "Find the unique elements of a NumPy array.\n",
    "\n",
    "```python\n",
    "# Exercise 25\n",
    "```\n",
    "\n",
    "---"
   ]
  },
  {
   "cell_type": "code",
   "execution_count": 133,
   "id": "b3c1ff69-4af5-498e-97dd-786ae2e358fd",
   "metadata": {},
   "outputs": [
    {
     "name": "stdout",
     "output_type": "stream",
     "text": [
      "[1 3 3 0 1 0 0 1 4]\n",
      "[0 1 3 4]\n"
     ]
    }
   ],
   "source": [
    "un = np.unique(spli)\n",
    "print(spli)\n",
    "print(un)"
   ]
  },
  {
   "cell_type": "markdown",
   "id": "056cc073-eb94-4dcd-88d9-99c1d7bb6cf7",
   "metadata": {},
   "source": [
    "### Exercise 26:\n",
    "Replace all elements in a NumPy array that are less than a specific value with that value.\n",
    "\n",
    "```python\n",
    "# Exercise 26\n",
    "```\n",
    "\n",
    "---"
   ]
  },
  {
   "cell_type": "code",
   "execution_count": 175,
   "id": "da061120-2892-4d52-b05d-6a91332889cc",
   "metadata": {},
   "outputs": [
    {
     "name": "stdout",
     "output_type": "stream",
     "text": [
      "[10 10  3  4  5  6]\n"
     ]
    }
   ],
   "source": [
    "bb = np.array([1,2,3,4,5,6])\n",
    "bb[bb < 3] = 10\n",
    "print(bb)"
   ]
  },
  {
   "cell_type": "markdown",
   "id": "164b225a-cbc0-4784-aa77-c9a661ca2512",
   "metadata": {},
   "source": [
    "### Exercise 27:\n",
    "Find the cumulative sum of the elements in a NumPy array.\n",
    "\n",
    "```python\n",
    "# Exercise 27\n",
    "```\n",
    "\n",
    "---"
   ]
  },
  {
   "cell_type": "code",
   "execution_count": 177,
   "id": "1026a8fc-7a79-4933-85bc-e55f6800c1be",
   "metadata": {},
   "outputs": [
    {
     "data": {
      "text/plain": [
       "array([10, 20, 23, 27, 32, 38])"
      ]
     },
     "execution_count": 177,
     "metadata": {},
     "output_type": "execute_result"
    }
   ],
   "source": [
    "np.cumsum(bb)"
   ]
  },
  {
   "cell_type": "markdown",
   "id": "c2054760-cb50-4b08-8cc2-5e50c62f5917",
   "metadata": {},
   "source": [
    "### Exercise 28:\n",
    "Create a NumPy array and find the number of non-zero elements in it.\n",
    "\n",
    "```python\n",
    "# Exercise 28\n",
    "```\n",
    "\n",
    "---"
   ]
  },
  {
   "cell_type": "code",
   "execution_count": 185,
   "id": "c81dc731-ae56-48c2-9bef-0017d4b4e84b",
   "metadata": {},
   "outputs": [
    {
     "name": "stdout",
     "output_type": "stream",
     "text": [
      "[[4 1 2 8 7 7 0 5 7 1]\n",
      " [6 7 4 6 0 5 4 8 2 6]\n",
      " [5 8 3 0 7 3 5 7 8 4]\n",
      " [7 1 8 9 7 5 0 1 8 1]\n",
      " [9 7 9 6 0 6 2 3 3 0]\n",
      " [3 2 2 1 3 9 4 4 4 1]\n",
      " [6 2 3 4 0 8 6 4 1 8]\n",
      " [7 0 6 4 6 2 8 5 7 5]\n",
      " [8 0 9 1 3 7 5 7 4 7]\n",
      " [2 8 2 0 8 7 1 8 1 1]]\n"
     ]
    },
    {
     "data": {
      "text/plain": [
       "90"
      ]
     },
     "execution_count": 185,
     "metadata": {},
     "output_type": "execute_result"
    }
   ],
   "source": [
    "created = np.random.randint(0,10, size = (10,10))\n",
    "print(created)\n",
    "np.count_nonzero(created)"
   ]
  },
  {
   "cell_type": "markdown",
   "id": "e9809cff-94b3-4ceb-9ec1-a0111f6ef8c4",
   "metadata": {},
   "source": [
    "### Exercise 29:\n",
    "Create a NumPy array of random integers and sort it in ascending order.\n",
    "\n",
    "```python\n",
    "# Exercise 29\n",
    "```\n",
    "\n",
    "---"
   ]
  },
  {
   "cell_type": "code",
   "execution_count": 187,
   "id": "59ec8564-37fd-47f1-9708-ebabb3dbdc0d",
   "metadata": {},
   "outputs": [
    {
     "data": {
      "text/plain": [
       "array([ 3,  4,  5,  6, 10, 10])"
      ]
     },
     "execution_count": 187,
     "metadata": {},
     "output_type": "execute_result"
    }
   ],
   "source": [
    "np.sort(bb)"
   ]
  },
  {
   "cell_type": "markdown",
   "id": "81e9c81c-d8e8-4128-ac17-8d71a19584e2",
   "metadata": {},
   "source": [
    "### Exercise 30:\n",
    "Find the row-wise and column-wise sum of a 3x3 matrix.\n",
    "\n",
    "```python\n",
    "# Exercise 30\n",
    "```\n",
    "\n",
    "---"
   ]
  },
  {
   "cell_type": "code",
   "execution_count": 197,
   "id": "accefdd7-ea2f-4591-b268-3bd9f736a0c1",
   "metadata": {},
   "outputs": [
    {
     "name": "stdout",
     "output_type": "stream",
     "text": [
      "\n",
      "\n",
      "[[3 1 5]\n",
      " [9 7 6]\n",
      " [9 7 4]]\n",
      "\n",
      "\n"
     ]
    },
    {
     "data": {
      "text/plain": [
       "array([21, 15, 15])"
      ]
     },
     "execution_count": 197,
     "metadata": {},
     "output_type": "execute_result"
    }
   ],
   "source": [
    "created = np.random.randint(0,10, size = (3,3))\n",
    "print(\"\\n\")\n",
    "print(created)\n",
    "print(\"\\n\")\n",
    "np.sum(created, axis = 0)"
   ]
  },
  {
   "cell_type": "markdown",
   "id": "af0ad3fa-1d08-4e43-b3f1-c7213bf44727",
   "metadata": {},
   "source": [
    "### Exercise 31:\n",
    "Generate a 2D NumPy array with random values and normalize it (scale the values between 0 and 1).\n",
    "\n",
    "```python\n",
    "# Exercise 31\n",
    "```\n",
    "\n",
    "---"
   ]
  },
  {
   "cell_type": "code",
   "execution_count": 203,
   "id": "70c74cb5-900e-4b00-8a31-003a9044d6d7",
   "metadata": {},
   "outputs": [
    {
     "name": "stdout",
     "output_type": "stream",
     "text": [
      "Original array:\n",
      "[[0.39075222 0.57275051 0.26203498]\n",
      " [0.01153632 0.80205378 0.73821084]\n",
      " [0.75034012 0.71450358 0.73103251]]\n",
      "\n",
      "Normalized array:\n",
      "[[0.47970591 0.70993269 0.31687935]\n",
      " [0.         1.         0.91923906]\n",
      " [0.93458253 0.88924951 0.9101585 ]]\n"
     ]
    }
   ],
   "source": [
    "array2 = np.random.rand(3, 3)\n",
    "min_val = np.min(array2)\n",
    "max_val = np.max(array2)\n",
    "\n",
    "normalized_array = (array2 - min_val) / (max_val - min_val)\n",
    "\n",
    "print(\"Original array:\")\n",
    "print(array2)\n",
    "print(\"\\nNormalized array:\")\n",
    "print(normalized_array)\n"
   ]
  },
  {
   "cell_type": "markdown",
   "id": "cb252e74-e154-482d-96bf-f5392b3ac564",
   "metadata": {},
   "source": [
    "### Exercise 32:\n",
    "Create two NumPy arrays and find the dot product.\n",
    "\n",
    "```python\n",
    "# Exercise 32\n",
    "```\n",
    "\n",
    "---"
   ]
  },
  {
   "cell_type": "code",
   "execution_count": 211,
   "id": "e190309f-501b-47f4-bc2a-b10729ad994a",
   "metadata": {},
   "outputs": [
    {
     "data": {
      "text/plain": [
       "array([[488, 536, 552],\n",
       "       [467, 515, 529],\n",
       "       [468, 512, 530]])"
      ]
     },
     "execution_count": 211,
     "metadata": {},
     "output_type": "execute_result"
    }
   ],
   "source": [
    "a1 = np.random.randint(5,9, size = (3,3))\n",
    "a2 = np.random.randint(20,25, size = (3,3))\n",
    "a1 @ a2"
   ]
  },
  {
   "cell_type": "markdown",
   "id": "357aeec0-458b-4ec9-bfe9-6268ffd8d96c",
   "metadata": {},
   "source": [
    "### Exercise 33:\n",
    "Find the trace of a square NumPy matrix.\n",
    "\n",
    "```python\n",
    "# Exercise 33\n",
    "```\n",
    "\n",
    "---"
   ]
  },
  {
   "cell_type": "code",
   "execution_count": 215,
   "id": "a0e6d209-0353-4bab-b5be-0f72fbede2b7",
   "metadata": {},
   "outputs": [
    {
     "data": {
      "text/plain": [
       "65"
      ]
     },
     "execution_count": 215,
     "metadata": {},
     "output_type": "execute_result"
    }
   ],
   "source": [
    "np.trace(a1)"
   ]
  },
  {
   "cell_type": "markdown",
   "id": "3859364e-4cb9-4ca5-b1db-d74ed517f954",
   "metadata": {},
   "source": [
    "### Exercise 34:\n",
    "Create a 2D array and swap two rows.\n",
    "\n",
    "```python\n",
    "# Exercise 34\n",
    "```\n",
    "\n",
    "---"
   ]
  },
  {
   "cell_type": "code",
   "execution_count": 245,
   "id": "98c7cbb7-0d9c-49d3-a9d3-27118447066a",
   "metadata": {},
   "outputs": [
    {
     "name": "stdout",
     "output_type": "stream",
     "text": [
      "\n",
      " Array after swapping rows 0 and 1:\n",
      "[[4 5 6]\n",
      " [1 2 3]\n",
      " [7 8 9]]\n"
     ]
    }
   ],
   "source": [
    "array_2d = np.array([[1, 2, 3],\n",
    "                     [4, 5, 6],\n",
    "                     [7, 8, 9]])\n",
    "\n",
    "# Swap the first row (index 0) with the second row (index 1)\n",
    "array_2d[[0, 1]] = array_2d[[1, 0]]\n",
    "\n",
    "print(\"\\n Array after swapping rows 0 and 1:\")\n",
    "print(array_2d)\n"
   ]
  },
  {
   "cell_type": "markdown",
   "id": "95ec97cf-6190-40f7-9522-2c5fcf3e84da",
   "metadata": {},
   "source": [
    "### Exercise 35:\n",
    "Create a 1D NumPy array and convert it into a column vector.\n",
    "\n",
    "```python\n",
    "# Exercise 35\n",
    "```\n",
    "\n",
    "---"
   ]
  },
  {
   "cell_type": "code",
   "execution_count": 225,
   "id": "2786fd9a-4c40-4a06-977c-82e422d7aa20",
   "metadata": {},
   "outputs": [
    {
     "data": {
      "text/plain": [
       "array([[10],\n",
       "       [10],\n",
       "       [ 3],\n",
       "       [ 4],\n",
       "       [ 5],\n",
       "       [ 6]])"
      ]
     },
     "execution_count": 225,
     "metadata": {},
     "output_type": "execute_result"
    }
   ],
   "source": [
    "bb.reshape(-1,1)"
   ]
  },
  {
   "cell_type": "markdown",
   "id": "526ae3ce-9f5c-4c2b-b2a2-f51a27aa0a23",
   "metadata": {},
   "source": [
    "### Exercise 36:\n",
    "Find the determinant of a 3x3 matrix.\n",
    "\n",
    "```python\n",
    "# Exercise 36\n",
    "```\n",
    "\n",
    "---"
   ]
  },
  {
   "cell_type": "code",
   "execution_count": 237,
   "id": "2cb34b26-d865-44ee-a2b0-a71d82568b7d",
   "metadata": {},
   "outputs": [
    {
     "name": "stdout",
     "output_type": "stream",
     "text": [
      "\n",
      "\n",
      "[[4 6 6 6 2]\n",
      " [6 5 6 2 1]\n",
      " [3 1 8 5 7]\n",
      " [7 7 1 4 5]\n",
      " [4 6 1 6 6]]\n",
      "-827.9999999999992\n"
     ]
    }
   ],
   "source": [
    "matrix = np.random.randint(1,9, size = (5,5))\n",
    "print(\"\\n\")\n",
    "print(matrix)\n",
    "determinant = np.linalg.det(matrix)\n",
    "print(determinant)"
   ]
  },
  {
   "cell_type": "markdown",
   "id": "ded7c5a7-0baa-4985-aa3b-6b6287182356",
   "metadata": {},
   "source": [
    "### Exercise 37:\n",
    "Find the eigenvalues and eigenvectors of a 2x2 matrix.\n",
    "\n",
    "```python\n",
    "# Exercise 37\n",
    "```\n",
    "\n",
    "---"
   ]
  },
  {
   "cell_type": "code",
   "execution_count": 247,
   "id": "f448ac0a-f9cf-482d-bfb5-2bdaf0300441",
   "metadata": {},
   "outputs": [
    {
     "name": "stdout",
     "output_type": "stream",
     "text": [
      "[[4 2]\n",
      " [1 3]]\n",
      "\n",
      "\n",
      "[5. 2.]\n",
      "\n",
      "\n",
      "[[ 0.89442719 -0.70710678]\n",
      " [ 0.4472136   0.70710678]]\n"
     ]
    }
   ],
   "source": [
    "matrix = np.array([[4, 2],[1, 3]])\n",
    "eigenvalues, eigenvectors = np.linalg.eig(matrix)\n",
    "print(matrix)\n",
    "print(\"\\n\")\n",
    "print(eigenvalues)\n",
    "print(\"\\n\")\n",
    "print(eigenvectors)"
   ]
  },
  {
   "cell_type": "markdown",
   "id": "5b1f1a8f-c150-4817-b06f-b4ed94f48fd0",
   "metadata": {},
   "source": [
    "### Exercise 38:\n",
    "Solve a system of linear equations using NumPy.\n",
    "\n",
    "```python\n",
    "# Exercise 38\n",
    "```\n",
    "\n",
    "---"
   ]
  },
  {
   "cell_type": "code",
   "execution_count": 253,
   "id": "8197ca19-90d5-4475-a726-731f524247a3",
   "metadata": {},
   "outputs": [
    {
     "name": "stdout",
     "output_type": "stream",
     "text": [
      "my answer is: [ 2.8 -0.2]\n"
     ]
    }
   ],
   "source": [
    "A = np.array([[2, 3],\n",
    "              [4, 1]])\n",
    "b = np.array([5, 11])\n",
    "solution = np.linalg.solve(A, b)\n",
    "print(\"my answer is:\", solution)"
   ]
  },
  {
   "cell_type": "markdown",
   "id": "79207b12-94da-45fb-9d2f-9884adefa693",
   "metadata": {},
   "source": [
    "### Exercise 39:\n",
    "Add Gaussian noise to a NumPy array.\n",
    "\n",
    "```python\n",
    "# Exercise 39\n",
    "```\n",
    "\n",
    "---"
   ]
  },
  {
   "cell_type": "code",
   "execution_count": 257,
   "id": "a444472f-50f6-4c0a-b78e-ea25428330b0",
   "metadata": {},
   "outputs": [
    {
     "name": "stdout",
     "output_type": "stream",
     "text": [
      "[10 20 30 40 50]\n",
      "[1.30114899 1.41400009 2.99513156 1.47535019 5.16966356]\n",
      "[11.30114899 21.41400009 32.99513156 41.47535019 55.16966356]\n"
     ]
    }
   ],
   "source": [
    "original_array = np.array([10, 20, 30, 40, 50])\n",
    "mean = 0\n",
    "std_dev = 5\n",
    "noise = np.random.normal(mean, std_dev, original_array.shape)\n",
    "noisy_array = original_array + noise\n",
    "print(original_array)\n",
    "print(noise)\n",
    "print(noisy_array)"
   ]
  },
  {
   "cell_type": "markdown",
   "id": "b3011110-181d-4b5f-bf31-1563830fcf9d",
   "metadata": {},
   "source": [
    "### Exercise 40:\n",
    "Create a 4x4 matrix and extract the diagonal elements.\n",
    "\n",
    "```python\n",
    "# Exercise 40\n",
    "```\n",
    "\n",
    "---"
   ]
  },
  {
   "cell_type": "code",
   "execution_count": 265,
   "id": "47215d9e-472e-4a2e-8102-615f8ec4b480",
   "metadata": {},
   "outputs": [
    {
     "name": "stdout",
     "output_type": "stream",
     "text": [
      "[[4 1 3 4]\n",
      " [6 6 8 8]\n",
      " [3 8 1 8]\n",
      " [5 7 7 5]]\n"
     ]
    },
    {
     "data": {
      "text/plain": [
       "array([4, 6, 1, 5])"
      ]
     },
     "execution_count": 265,
     "metadata": {},
     "output_type": "execute_result"
    }
   ],
   "source": [
    "ele = np.random.randint(1,10, size = (4,4))\n",
    "print(ele)\n",
    "np.diag(ele)"
   ]
  },
  {
   "cell_type": "markdown",
   "id": "5b0aebd4-c5be-4a10-a348-fbfbba54b0eb",
   "metadata": {},
   "source": [
    "### Exercise 41:\n",
    "Generate a NumPy array of 100 random values and clip the values to a range between 10 and 50.\n",
    "\n",
    "```python\n",
    "# Exercise 41\n",
    "```\n",
    "\n",
    "---\n",
    "\n",
    "### Exercise 42:\n",
    "Create a 2D NumPy array and replace all negative values with zero.\n",
    "\n",
    "```python\n",
    "# Exercise 42\n",
    "```\n",
    "\n",
    "---\n",
    "\n",
    "### Exercise 43:\n",
    "Find the inner and outer products of two NumPy arrays.\n",
    "\n",
    "```python\n",
    "# Exercise 43\n",
    "```\n",
    "\n",
    "---\n",
    "\n",
    "### Exercise 44:\n",
    "Calculate the pairwise distances between points in a NumPy array.\n",
    "\n",
    "```python\n",
    "# Exercise 44\n",
    "```\n",
    "\n",
    "---\n",
    "\n",
    "### Exercise 45:\n",
    "Create a structured NumPy array with fields for `name`, `age`, and `height`.\n",
    "\n",
    "```python\n",
    "# Exercise 45\n",
    "```\n",
    "\n",
    "---\n",
    "\n",
    "### Exercise 46:\n",
    "Create a 5x5 matrix of random integers and count the occurrences of each unique value.\n",
    "\n",
    "```python\n",
    "# Exercise 46\n",
    "```\n",
    "\n",
    "---\n",
    "\n",
    "### Exercise 47:\n",
    "Generate a random 3x3 NumPy array and subtract the mean of each row from the corresponding row.\n",
    "\n",
    "```python\n",
    "# Exercise 47\n",
    "```\n",
    "\n",
    "---\n",
    "\n",
    "### Exercise 48:\n",
    "Create a NumPy array of random integers and check if any of the values are greater than 50.\n",
    "\n",
    "```python\n",
    "# Exercise 48\n",
    "```\n",
    "\n",
    "---\n",
    "\n",
    "### Exercise 49:\n",
    "Calculate the moving average of a 1D NumPy array.\n",
    "\n",
    "```python\n",
    "# Exercise 49\n",
    "```\n",
    "\n",
    "---\n",
    "\n",
    "### Exercise 50:\n",
    "Find the Pearson correlation coefficient between two NumPy arrays.\n",
    "\n",
    "```python\n",
    "# Exercise 50\n",
    "```\n",
    "\n",
    "---\n",
    "\n",
    "### Exercise 51:\n",
    "Convert a NumPy array of radians to degrees.\n",
    "\n",
    "```python\n",
    "# Exercise 51\n",
    "```\n",
    "\n",
    "---\n",
    "\n",
    "### Exercise 52:\n",
    "Create a random NumPy array and compute its variance and standard deviation.\n",
    "\n",
    "```python\n",
    "# Exercise 52\n",
    "```\n",
    "\n",
    "---\n",
    "\n",
    "### Exercise 53:\n",
    "Create a 2D NumPy array and find the indices of the maximum values along each axis.\n",
    "\n",
    "```python\n",
    "# Exercise 53\n",
    "```\n",
    "\n",
    "---\n",
    "\n",
    "### Exercise 54:\n",
    "Compute the inverse of a 2x2 NumPy matrix.\n",
    "\n",
    "```python\n",
    "# Exercise 54\n",
    "```\n",
    "\n",
    "---\n",
    "\n",
    "### Exercise 55:\n",
    "Create a NumPy array of 10 random values and standardize it (mean 0, variance 1).\n",
    "\n",
    "```python\n",
    "# Exercise 55\n",
    "```\n",
    "\n",
    "---\n",
    "\n",
    "### Exercise 56:\n",
    "Perform element-wise addition and subtraction on two NumPy arrays.\n",
    "\n",
    "```python\n",
    "# Exercise 56\n",
    "```\n",
    "\n",
    "---\n",
    "\n",
    "### Exercise 57:\n",
    "Create a NumPy array of random values and find the maximum element's index.\n",
    "\n",
    "```python\n",
    "# Exercise 57\n",
    "```\n",
    "\n",
    "---\n",
    "\n",
    "### Exercise 58:\n",
    "Create a 3x3 NumPy array and rotate it by 90 degrees.\n",
    "\n",
    "```python\n",
    "# Exercise 58\n",
    "```\n",
    "\n",
    "---\n",
    "\n",
    "### Exercise 59:\n",
    "Compute the Frobenius norm of a matrix.\n",
    "\n",
    "```python\n",
    "# Exercise 59\n",
    "```\n",
    "\n",
    "---\n",
    "\n",
    "### Exercise 60:\n",
    "Create a 3D NumPy array and slice out a subarray.\n",
    "\n",
    "```python\n",
    "# Exercise 60\n",
    "```\n",
    "\n",
    "---"
   ]
  },
  {
   "cell_type": "code",
   "execution_count": null,
   "id": "d78d5838-1fe0-4b70-8774-bf6b593bd5aa",
   "metadata": {},
   "outputs": [],
   "source": []
  }
 ],
 "metadata": {
  "kernelspec": {
   "display_name": "Python 3 (ipykernel)",
   "language": "python",
   "name": "python3"
  },
  "language_info": {
   "codemirror_mode": {
    "name": "ipython",
    "version": 3
   },
   "file_extension": ".py",
   "mimetype": "text/x-python",
   "name": "python",
   "nbconvert_exporter": "python",
   "pygments_lexer": "ipython3",
   "version": "3.12.4"
  }
 },
 "nbformat": 4,
 "nbformat_minor": 5
}
