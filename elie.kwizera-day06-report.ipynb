{
 "cells": [
  {
   "cell_type": "code",
   "execution_count": null,
   "id": "10fe252d-76fb-4fe5-99fd-2085f4d7a867",
   "metadata": {},
   "outputs": [],
   "source": [
    "# PYTHON 1"
   ]
  },
  {
   "cell_type": "code",
   "execution_count": null,
   "id": "c0d1c937-822c-4e05-9bdd-60fae0afb5e0",
   "metadata": {},
   "outputs": [],
   "source": [
    "# QUESTION 1\n",
    "# Sub question a"
   ]
  },
  {
   "cell_type": "code",
   "execution_count": 65,
   "id": "5c1762c3-bb82-4085-b7f4-2c02896ca8ce",
   "metadata": {},
   "outputs": [
    {
     "name": "stdin",
     "output_type": "stream",
     "text": [
      "Please enter the value of n: 6\n"
     ]
    },
    {
     "name": "stdout",
     "output_type": "stream",
     "text": [
      "18\n"
     ]
    }
   ],
   "source": [
    "goodsum = 0\n",
    "n = int(input(\"Please enter the value of n:\"))\n",
    "for i in range(n):\n",
    "    if i%2 !=0:\n",
    "        goodsum = goodsum + i + 3\n",
    "print(goodsum)"
   ]
  },
  {
   "cell_type": "code",
   "execution_count": null,
   "id": "340c2f19-802d-477f-b484-dee2a218b368",
   "metadata": {},
   "outputs": [],
   "source": [
    "# Sub question b"
   ]
  },
  {
   "cell_type": "code",
   "execution_count": 73,
   "id": "f055ebf7-9c71-4b6e-8b55-4bf4eb486e7f",
   "metadata": {},
   "outputs": [
    {
     "name": "stdin",
     "output_type": "stream",
     "text": [
      "Please enter the value of n: 5\n"
     ]
    },
    {
     "name": "stdout",
     "output_type": "stream",
     "text": [
      "105\n"
     ]
    }
   ],
   "source": [
    "goodsum = 3\n",
    "n = int(input(\"Please enter the value of n:\"))\n",
    "for i in range(1,n):\n",
    "    if i%2 ==0:\n",
    "        goodsum = goodsum * (i + 3)\n",
    "print(goodsum)"
   ]
  },
  {
   "cell_type": "code",
   "execution_count": 2,
   "id": "f1583151-3df1-48b2-ab9e-70174a3b4875",
   "metadata": {},
   "outputs": [
    {
     "name": "stdin",
     "output_type": "stream",
     "text": [
      "Please enter the number of the day? 4\n"
     ]
    },
    {
     "name": "stdout",
     "output_type": "stream",
     "text": [
      "The day is working day\n"
     ]
    }
   ],
   "source": [
    "# Question 2\n",
    "intday = int(input(\"Please enter the number of the day?\"))\n",
    "days = (\"Monday\",\"Tuesday\",\"Wednesday\", \"Thursday\",\"Friday\",\"Saturday\",\"Sunday\")\n",
    "if 0 <= intday <= 4:\n",
    "    print(\"The day is working day\")\n",
    "else:\n",
    "    print(\"The day is weekend\")"
   ]
  },
  {
   "cell_type": "code",
   "execution_count": 8,
   "id": "314d16d6-2b59-4147-88c5-32bfd5314b77",
   "metadata": {},
   "outputs": [
    {
     "name": "stdin",
     "output_type": "stream",
     "text": [
      "Enter a number for the day of the week (0-6):  4\n"
     ]
    },
    {
     "name": "stdout",
     "output_type": "stream",
     "text": [
      "Working day: Thursday\n"
     ]
    }
   ],
   "source": [
    "# other method\n",
    "\n",
    "day = int(input(\"Enter a number for the day of the week (0-6): \"))\n",
    "days_of_week = [\"Sunday\", \"Monday\", \"Tuesday\", \"Wednesday\", \"Thursday\", \"Friday\", \"Saturday\"]\n",
    "if 0 <= day <= 4:\n",
    "    print(f\"Working day: {days_of_week[day]}\")\n",
    "else:\n",
    "    print(\"Weekend\")"
   ]
  },
  {
   "cell_type": "code",
   "execution_count": 10,
   "id": "1f17048b-007b-4456-b17b-0342e466cab8",
   "metadata": {},
   "outputs": [
    {
     "name": "stdin",
     "output_type": "stream",
     "text": [
      "Please enter the month number: 3\n"
     ]
    },
    {
     "data": {
      "text/plain": [
       "'31'"
      ]
     },
     "execution_count": 10,
     "metadata": {},
     "output_type": "execute_result"
    }
   ],
   "source": [
    "# Question 3\n",
    "month = int(input(\"Enter a month number (0-11): \"))\n",
    "days_in_month = [31, 28, 31, 30, 31, 30, 31, 31, 30, 31, 30, 31]\n",
    "print(f\"Number of days in month: {days_in_month[month]}\")"
   ]
  },
  {
   "cell_type": "code",
   "execution_count": 17,
   "id": "b91efde5-7045-47df-ab94-90274ca3d349",
   "metadata": {},
   "outputs": [
    {
     "name": "stdout",
     "output_type": "stream",
     "text": [
      "Prof. Elie KWIZERA\n",
      "Prof. Elie KWIZERA\n",
      "Prof. Elie KWIZERA\n"
     ]
    }
   ],
   "source": [
    "# Question 4\n",
    "# Using for loop\n",
    "for _ in range(3):\n",
    "    print(\"Prof. Elie KWIZERA\")"
   ]
  },
  {
   "cell_type": "code",
   "execution_count": 21,
   "id": "a1706a3c-5757-4c44-8999-5e04d7c50958",
   "metadata": {},
   "outputs": [
    {
     "name": "stdout",
     "output_type": "stream",
     "text": [
      "Prf. Elie KWIZERA\n",
      "Prf. Elie KWIZERA\n",
      "Prf. Elie KWIZERA\n"
     ]
    }
   ],
   "source": [
    "# Question 4\n",
    "# Using while loop\n",
    "count = 0\n",
    "while count < 3:\n",
    "    print(\"Prf. Elie KWIZERA\")\n",
    "    count += 1"
   ]
  },
  {
   "cell_type": "code",
   "execution_count": 23,
   "id": "8c02a4d3-57f7-4cff-9427-e7f3c0b173bc",
   "metadata": {},
   "outputs": [
    {
     "name": "stdin",
     "output_type": "stream",
     "text": [
      "Enter the first number of the Fibonacci sequence:  3\n",
      "Enter the second number of the Fibonacci sequence:  3\n"
     ]
    },
    {
     "name": "stdout",
     "output_type": "stream",
     "text": [
      "First 15 terms of the Fibonacci sequence: [3, 3, 6, 9, 15, 24, 39, 63, 102, 165, 267, 432, 699, 1131, 1830]\n"
     ]
    }
   ],
   "source": [
    "# Question 5\n",
    "a0 = int(input(\"Enter the first number of the Fibonacci sequence: \"))\n",
    "a1 = int(input(\"Enter the second number of the Fibonacci sequence: \"))\n",
    "fibonacci = [a0, a1]\n",
    "for i in range(2, 15):\n",
    "    fibonacci.append(fibonacci[-1] + fibonacci[-2])\n",
    "print(f\"First 15 terms of the Fibonacci sequence: {fibonacci}\")"
   ]
  },
  {
   "cell_type": "code",
   "execution_count": 25,
   "id": "d18220cd-be57-4a41-9824-4bf6edf641c6",
   "metadata": {},
   "outputs": [
    {
     "name": "stdin",
     "output_type": "stream",
     "text": [
      "Enter x0:  2\n",
      "Enter x1:  3\n"
     ]
    },
    {
     "name": "stdout",
     "output_type": "stream",
     "text": [
      "First 30 terms of the sequence: [2, 3, 7.5, 12.75, 28.875, 52.6875, 112.96875, 214.546875, 446.1796875, 866.73046875, 1771.904296875, 3486.1435546875, 7058.78466796875, 13987.822998046875, 28170.265502929688, 56048.60174560547, 112535.0973815918, 224413.3539276123, 449811.96910858154, 898146.0463371277, 1798508.9304943085, 3593692.6042585373, 7192373.093612194, 14377264.359581709, 28765751.460627437, 57514668.809058845, 115054588.78641173, 230071300.82038242, 460199416.76942635, 920313610.8458605]\n"
     ]
    }
   ],
   "source": [
    "# Question 6\n",
    "x0 = int(input(\"Enter x0: \"))\n",
    "x1 = int(input(\"Enter x1: \"))\n",
    "sequence = [x0, x1]\n",
    "for i in range(2, 30):\n",
    "    x_next = (sequence[i-1] + 6*sequence[i-2]) / 2\n",
    "    sequence.append(x_next)\n",
    "print(f\"First 30 terms of the sequence: {sequence}\")"
   ]
  },
  {
   "cell_type": "code",
   "execution_count": 33,
   "id": "bbdc0042-b1b8-44a6-9010-54c0f356cac6",
   "metadata": {},
   "outputs": [
    {
     "name": "stdin",
     "output_type": "stream",
     "text": [
      "Enter a year:  2024\n"
     ]
    },
    {
     "name": "stdout",
     "output_type": "stream",
     "text": [
      "2024 is a leap year.\n"
     ]
    }
   ],
   "source": [
    "# Question 7\n",
    "year = int(input(\"Enter a year: \"))\n",
    "if (year % 4 == 0 and year % 100 != 0) or (year % 400 == 0):\n",
    "    print(f\"{year} is a leap year.\")\n",
    "else:\n",
    "    print(f\"{year} is not a leap year.\")"
   ]
  },
  {
   "cell_type": "code",
   "execution_count": 35,
   "id": "59a7cfe3-0648-4229-85cf-62d638871793",
   "metadata": {},
   "outputs": [
    {
     "name": "stdin",
     "output_type": "stream",
     "text": [
      "Enter a year:  2024\n"
     ]
    },
    {
     "name": "stdout",
     "output_type": "stream",
     "text": [
      "2024 is a leap year: True\n"
     ]
    }
   ],
   "source": [
    "# Second way using logical operator\n",
    "year = int(input(\"Enter a year: \"))\n",
    "is_leap = (year % 4 == 0) and (year % 100 != 0 or year % 400 == 0)\n",
    "print(f\"{year} is a leap year: {is_leap}\")"
   ]
  },
  {
   "cell_type": "code",
   "execution_count": 37,
   "id": "bcf0e530-c411-4079-a327-2e6f24297ecd",
   "metadata": {},
   "outputs": [
    {
     "name": "stdin",
     "output_type": "stream",
     "text": [
      "Enter a natural number n:  4\n"
     ]
    },
    {
     "name": "stdout",
     "output_type": "stream",
     "text": [
      "Sum of squares (for loop): 30\n"
     ]
    }
   ],
   "source": [
    "# Question 8\n",
    "n = int(input(\"Enter a natural number n: \"))\n",
    "sum_squares = sum(i**2 for i in range(1, n+1))\n",
    "print(f\"Sum of squares (for loop): {sum_squares}\")"
   ]
  },
  {
   "cell_type": "code",
   "execution_count": 39,
   "id": "1415c798-1bf6-4350-9de4-f5b5855cf14b",
   "metadata": {},
   "outputs": [
    {
     "name": "stdin",
     "output_type": "stream",
     "text": [
      "Enter a natural number n:  2\n"
     ]
    },
    {
     "name": "stdout",
     "output_type": "stream",
     "text": [
      "Sum of squares (for loop): 5\n"
     ]
    }
   ],
   "source": [
    "# Question 8\n",
    "# using for loop\n",
    "n = int(input(\"Enter a natural number n: \"))\n",
    "sum_squares = sum(i**2 for i in range(1, n+1))\n",
    "print(f\"Sum of squares (for loop): {sum_squares}\")"
   ]
  },
  {
   "cell_type": "code",
   "execution_count": 43,
   "id": "e9c76b30-beeb-437c-b1d9-7de9f4d464e8",
   "metadata": {},
   "outputs": [
    {
     "name": "stdin",
     "output_type": "stream",
     "text": [
      "Enter a natural number n:  2\n"
     ]
    },
    {
     "name": "stdout",
     "output_type": "stream",
     "text": [
      "Sum of squares (while loop): 5\n"
     ]
    }
   ],
   "source": [
    "# Question 8\n",
    "# Using while loop\n",
    "n = int(input(\"Enter a natural number n: \"))\n",
    "sum_squares = 0\n",
    "i = 1\n",
    "while i <= n:\n",
    "    sum_squares += i**2\n",
    "    i += 1\n",
    "print(f\"Sum of squares (while loop): {sum_squares}\")"
   ]
  },
  {
   "cell_type": "code",
   "execution_count": 45,
   "id": "2ab4bea2-eae9-4b2f-9d30-5430c890d65d",
   "metadata": {},
   "outputs": [
    {
     "name": "stdin",
     "output_type": "stream",
     "text": [
      "Enter a natural number:  6\n"
     ]
    },
    {
     "name": "stdout",
     "output_type": "stream",
     "text": [
      "Divisors of 6: [1, 2, 3, 6]\n"
     ]
    }
   ],
   "source": [
    "# Question 9\n",
    "# program to print all divisors of a number\n",
    "num = int(input(\"Enter a natural number: \"))\n",
    "divisors = [i for i in range(1, num + 1) if num % i == 0]\n",
    "print(f\"Divisors of {num}: {divisors}\")"
   ]
  },
  {
   "cell_type": "code",
   "execution_count": 57,
   "id": "9f1432bf-dae0-45c0-9254-5d398afc560c",
   "metadata": {},
   "outputs": [
    {
     "name": "stdin",
     "output_type": "stream",
     "text": [
      "Enter a number:  10\n"
     ]
    },
    {
     "name": "stdout",
     "output_type": "stream",
     "text": [
      "Prime factors: [2, 5]\n"
     ]
    }
   ],
   "source": [
    "# Question 9\n",
    "# to print prime factors of the number\n",
    "num = int(input(\"Enter a number: \"))\n",
    "prime_factors = []\n",
    "divisor = 2\n",
    "while num > 1:\n",
    "    while num % divisor == 0:\n",
    "        prime_factors.append(divisor)\n",
    "        num //= divisor\n",
    "    divisor += 1\n",
    "print(f\"Prime factors: {prime_factors}\")"
   ]
  },
  {
   "cell_type": "code",
   "execution_count": 63,
   "id": "6c896a8c-2ded-45d7-a4b0-9341af755787",
   "metadata": {},
   "outputs": [
    {
     "name": "stdin",
     "output_type": "stream",
     "text": [
      "Enter an integer between 0 and 9:  6\n",
      "Enter the maximum number N:  9\n"
     ]
    },
    {
     "name": "stdout",
     "output_type": "stream",
     "text": [
      "Multiplication table for 6:\n",
      "6 * 0 = 0\n",
      "6 * 1 = 6\n",
      "6 * 2 = 12\n",
      "6 * 3 = 18\n",
      "6 * 4 = 24\n",
      "6 * 5 = 30\n",
      "6 * 6 = 36\n",
      "6 * 7 = 42\n",
      "6 * 8 = 48\n",
      "6 * 9 = 54\n"
     ]
    }
   ],
   "source": [
    "# Question 10\n",
    "x = int(input(\"Enter an integer between 0 and 9: \"))\n",
    "max_n = int(input(\"Enter the maximum number N: \"))\n",
    "print(f\"Multiplication table for {x}:\")\n",
    "for i in range(max_n + 1):\n",
    "    print(f\"{x} * {i} = {x * i}\")"
   ]
  },
  {
   "cell_type": "code",
   "execution_count": 65,
   "id": "4a2db510-28f7-4b00-92aa-8381bf3728a9",
   "metadata": {},
   "outputs": [
    {
     "name": "stdout",
     "output_type": "stream",
     "text": [
      "Multiples of 3, 7, or 11 between 0 and 40: [0, 3, 6, 7, 9, 11, 12, 14, 15, 18, 21, 22, 24, 27, 28, 30, 33, 35, 36, 39]\n"
     ]
    }
   ],
   "source": [
    "# Question 11\n",
    "multiples = [i for i in range(41) if i % 3 == 0 or i % 7 == 0 or i % 11 == 0]\n",
    "print(f\"Multiples of 3, 7, or 11 between 0 and 40: {multiples}\")"
   ]
  },
  {
   "cell_type": "code",
   "execution_count": 69,
   "id": "6a6daccf-19f9-442c-a4db-73265ec85a07",
   "metadata": {},
   "outputs": [
    {
     "name": "stdin",
     "output_type": "stream",
     "text": [
      "Enter a float number:  4.9\n"
     ]
    },
    {
     "name": "stdout",
     "output_type": "stream",
     "text": [
      "The floor of 4.9 is: 4\n"
     ]
    }
   ],
   "source": [
    "# Question 12\n",
    "import math\n",
    "x = float(input(\"Enter a float number: \"))\n",
    "print(f\"The floor of {x} is: {math.floor(x)}\")"
   ]
  },
  {
   "cell_type": "code",
   "execution_count": 71,
   "id": "a823fe55-710d-4fb2-8432-f79cf75eedb5",
   "metadata": {},
   "outputs": [
    {
     "name": "stdin",
     "output_type": "stream",
     "text": [
      "Enter x-coordinate:  2\n",
      "Enter y-coordinate:  5\n"
     ]
    },
    {
     "name": "stdout",
     "output_type": "stream",
     "text": [
      "Point is in the 1st quadrant\n"
     ]
    },
    {
     "name": "stdin",
     "output_type": "stream",
     "text": [
      "Do you want to quit? (yes/no):  no\n",
      "Enter x-coordinate:  4\n",
      "Enter y-coordinate:  210\n"
     ]
    },
    {
     "name": "stdout",
     "output_type": "stream",
     "text": [
      "Point is in the 1st quadrant\n"
     ]
    },
    {
     "name": "stdin",
     "output_type": "stream",
     "text": [
      "Do you want to quit? (yes/no):  yes\n"
     ]
    }
   ],
   "source": [
    "# Question 13\n",
    "while True:\n",
    "    x = float(input(\"Enter x-coordinate: \"))\n",
    "    y = float(input(\"Enter y-coordinate: \"))\n",
    "    \n",
    "    if x == 0 and y == 0:\n",
    "        print(\"Point is at the origin\")\n",
    "    elif x == 0:\n",
    "        print(\"Point is on the y-axis\")\n",
    "    elif y == 0:\n",
    "        print(\"Point is on the x-axis\")\n",
    "    elif x > 0 and y > 0:\n",
    "        print(\"Point is in the 1st quadrant\")\n",
    "    elif x < 0 and y > 0:\n",
    "        print(\"Point is in the 2nd quadrant\")\n",
    "    elif x < 0 and y < 0:\n",
    "        print(\"Point is in the 3rd quadrant\")\n",
    "    else:\n",
    "        print(\"Point is in the 4th quadrant\")\n",
    "    \n",
    "    quit_program = input(\"Do you want to quit? (yes/no): \")\n",
    "    if quit_program.lower() == 'yes':\n",
    "        break"
   ]
  },
  {
   "cell_type": "code",
   "execution_count": 85,
   "id": "3dfb3041-a4c6-434e-9c58-a36987e3b621",
   "metadata": {},
   "outputs": [
    {
     "name": "stdin",
     "output_type": "stream",
     "text": [
      "Enter a number between 0 and 9:  5\n",
      "Enter a number between 0 and 255:  6\n"
     ]
    },
    {
     "name": "stdout",
     "output_type": "stream",
     "text": [
      "Multiples of 5 between 0 and 6: [5]\n"
     ]
    },
    {
     "name": "stdin",
     "output_type": "stream",
     "text": [
      "Do you want to continue? (yes/no):  no\n"
     ]
    }
   ],
   "source": [
    "# Question 14\n",
    "while True:\n",
    "    # Ask for the first number (x) between 0 and 9\n",
    "    while True:\n",
    "        x = int(input(\"Enter a number between 0 and 9: \"))\n",
    "        if 0 <= x < 10:\n",
    "            break\n",
    "        print(\"Invalid input. Please enter a number between 0 and 9.\")\n",
    "    \n",
    "    # Ask for the second number (max) between 0 and 255\n",
    "    while True:\n",
    "        max_num = int(input(\"Enter a number between 0 and 255: \"))\n",
    "        if 0 <= max_num < 256:\n",
    "            break\n",
    "        print(\"Invalid input. Please enter a number between 0 and 255.\")\n",
    "    \n",
    "    # Show multiples of x in the range 1 to max_num\n",
    "    if x != 0:  # To avoid division by zero\n",
    "        multiples = [i for i in range(x, max_num + 1, x)]\n",
    "        print(f\"Multiples of {x} between 0 and {max_num}:\", multiples[:])\n",
    "    else:\n",
    "        print(\"Multiples of 0 are not defined, because every number is a multiple of 0.\")\n",
    "    \n",
    "    # Ask if the user wants to continue\n",
    "    continue_program = input(\"Do you want to continue? (yes/no): \").lower()\n",
    "    if continue_program != 'yes':\n",
    "        break"
   ]
  }
 ],
 "metadata": {
  "kernelspec": {
   "display_name": "Python 3 (ipykernel)",
   "language": "python",
   "name": "python3"
  },
  "language_info": {
   "codemirror_mode": {
    "name": "ipython",
    "version": 3
   },
   "file_extension": ".py",
   "mimetype": "text/x-python",
   "name": "python",
   "nbconvert_exporter": "python",
   "pygments_lexer": "ipython3",
   "version": "3.12.4"
  }
 },
 "nbformat": 4,
 "nbformat_minor": 5
}
